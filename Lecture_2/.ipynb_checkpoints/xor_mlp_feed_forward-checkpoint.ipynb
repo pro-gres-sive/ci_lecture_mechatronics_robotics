{
 "cells": [
  {
   "cell_type": "markdown",
   "id": "f2d8d1b3-6b97-4c25-8d0a-5a24ed10c0c4",
   "metadata": {},
   "source": [
    "# Lecture 2\n",
    "\n",
    "### Lecture Example:\n",
    "\n",
    "- Setup the formula for the output of the given XOR multilayer perceptron using matrix operations\n",
    "- Implement the derived formula in a python function\n",
    "\n",
    "![xor multilayer perceptron](./img/xor_mlp.png \"XOR\")\n"
   ]
  },
  {
   "cell_type": "markdown",
   "id": "1259fc3f-9716-4442-9230-99a3c157c4a2",
   "metadata": {},
   "source": [
    "### Solution:"
   ]
  },
  {
   "cell_type": "code",
   "execution_count": 99,
   "id": "70a4b6e8-be0d-44cd-8fbd-301b69221bcf",
   "metadata": {},
   "outputs": [],
   "source": [
    "%matplotlib widget\n",
    "import matplotlib.pyplot as plt\n",
    "plt.rcParams['figure.figsize'] = [12, 6]\n",
    "\n",
    "import numpy as np\n",
    "import pandas as pd"
   ]
  },
  {
   "cell_type": "code",
   "execution_count": 100,
   "id": "86f0d441-f089-428b-a1cf-540fb6fe7f44",
   "metadata": {},
   "outputs": [],
   "source": [
    "def step(x):\n",
    "    return np.heaviside(x, 0)\n",
    "\n",
    "\n",
    "def xor(inputs):\n",
    "    # define weights\n",
    "    w_ih = np.array([[2, 2, -1], [-1, -1, 2]])  # weight matrix between input and hidden layer\n",
    "    w_ho = np.array([1, 1, -1]).reshape(1, -1)  # weight vector between hidden layer and output, reshaped to get a 1x3 row vector\n",
    "\n",
    "    # hidden layer output\n",
    "    output_h = step(np.matmul(w_ih, inputs))\n",
    "    output_h_extended = np.vstack((output_h, 1))  # extend layer output vector with an additional 1 for subsequent matrix multiplication\n",
    "\n",
    "    # net output\n",
    "    output = step(np.matmul(w_ho, output_h_edited))\n",
    "\n",
    "    return output\n"
   ]
  },
  {
   "cell_type": "code",
   "execution_count": 101,
   "id": "be2b50c0-d6e4-4f24-a723-472ce54a2d5d",
   "metadata": {},
   "outputs": [
    {
     "name": "stdout",
     "output_type": "stream",
     "text": [
      "XOR result:  [[1.]]\n"
     ]
    }
   ],
   "source": [
    "x_0 = 1\n",
    "x_1 = 0\n",
    "inputs = np.array([x_0, x_1, 1]).reshape(-1, 1) #reshape to get a 3x1 column vector\n",
    "\n",
    "xor_output = xor(inputs)\n",
    "print('XOR result: ', xor_output)"
   ]
  }
 ],
 "metadata": {
  "kernelspec": {
   "display_name": "Python 3 (ipykernel)",
   "language": "python",
   "name": "python3"
  },
  "language_info": {
   "codemirror_mode": {
    "name": "ipython",
    "version": 3
   },
   "file_extension": ".py",
   "mimetype": "text/x-python",
   "name": "python",
   "nbconvert_exporter": "python",
   "pygments_lexer": "ipython3",
   "version": "3.9.7"
  }
 },
 "nbformat": 4,
 "nbformat_minor": 5
}
