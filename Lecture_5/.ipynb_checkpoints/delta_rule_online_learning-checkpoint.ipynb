{
 "cells": [
  {
   "cell_type": "markdown",
   "id": "eb5888bd-0897-4d46-8097-0e04dca439c0",
   "metadata": {},
   "source": [
    "# Sequential Learning with Perceptrons\n",
    "Below, you'll find the barebone code for a perpectron, which is implemented making use of Python classes\n",
    "Documentation: https://docs.python.org/3/tutorial/classes.html\n",
    "\n",
    "Tasks:\n",
    "1. Load the .csv data using pandas\n",
    "2. Visualize the data using pandas.plot() (https://pandas.pydata.org/docs/reference/api/pandas.DataFrame.plot.html) or plt.plot() (https://matplotlib.org/stable/api/_as_gen/matplotlib.pyplot.plot.html)\n",
    "3. Divide the data into a training set and into a test set, then create np.arrays for the x and y columns of each data set\n",
    "4. Initialize the weights of the percepton randomly in a range between -0.2 and 0.2\n",
    "5. Implement the net_process function, calculating the weighted sum of it's inputs + bias. Use the predict function to examine the output of the untrained network. \n",
    "6. Implement the fit function of the network by making use of the delta rule in it's sequential form (online training).\n",
    "7. Display meaningful metrics as an print output in every epoch and use the fit function to train on the training data (hint: since we use online training, a very low learning rate might be needed)\n",
    "8. Collect the chosen metric data while training and return it as an output of the fit function. Visualize those metrics.\n",
    "9. You might notice, that the networks metrics won't improve after several epochs. Why is that? Implement an \"abort mechanism\", which terminates training in that case.\n",
    "10. Use the network to predict on test data of your choice"
   ]
  },
  {
   "cell_type": "code",
   "execution_count": 195,
   "id": "e301c278-2d78-4c77-9631-5a932183d2a1",
   "metadata": {},
   "outputs": [],
   "source": [
    "import matplotlib.pyplot as plt #library for visualizing data\n",
    "%matplotlib widget \n",
    "#setting for jupyter lab\n",
    "plt.rcParams['figure.figsize'] = [12, 6] #setting figure size (plots)\n",
    "\n",
    "import pandas as pd #(software library for data analysis and manipulation, https://pandas.pydata.org/docs/)\n",
    "import numpy as np #(software library for matrix multiplications, https://numpy.org/doc/)\n",
    "import statistics as stats #(python module for statistic calculations, https://docs.python.org/3/library/statistics.html)"
   ]
  },
  {
   "cell_type": "code",
   "execution_count": 196,
   "id": "89c0b86e-7083-444a-9e76-d4c87ae934f5",
   "metadata": {},
   "outputs": [],
   "source": [
    "class Perceptron_sequential():\n",
    "    \n",
    "    def __init__(self):\n",
    "        self.weights={}\n",
    "        #self.weights['m'] = ?\n",
    "        #self.weights['b'] = ?\n",
    "        \n",
    "    def activation(self, data):\n",
    "        activation = data * 1 #(linear)\n",
    "        return activation\n",
    "    \n",
    "    def net_process(self, x):\n",
    "        #net = ?\n",
    "        return net\n",
    "    \n",
    "    def predict(self,x):\n",
    "        pred = self.activation(self.net_process(x))\n",
    "        return pred\n",
    "        \n",
    "    \n",
    "    #def fit(self, X_train, Y_train, X_val, Y_val, epochs, lrate):\n",
    "        #?\n",
    "            \n",
    "                \n",
    "                "
   ]
  }
 ],
 "metadata": {
  "kernelspec": {
   "display_name": "Python 3 (ipykernel)",
   "language": "python",
   "name": "python3"
  },
  "language_info": {
   "codemirror_mode": {
    "name": "ipython",
    "version": 3
   },
   "file_extension": ".py",
   "mimetype": "text/x-python",
   "name": "python",
   "nbconvert_exporter": "python",
   "pygments_lexer": "ipython3",
   "version": "3.9.7"
  }
 },
 "nbformat": 4,
 "nbformat_minor": 5
}
