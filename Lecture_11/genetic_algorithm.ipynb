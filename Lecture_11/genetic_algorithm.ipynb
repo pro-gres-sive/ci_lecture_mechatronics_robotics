{
 "cells": [
  {
   "cell_type": "code",
   "execution_count": null,
   "id": "bd2f154f-9c2d-43f0-b4d4-65565403c294",
   "metadata": {},
   "outputs": [],
   "source": [
    "import matplotlib.pyplot as plt #library for visualizing data\n",
    "%matplotlib widget \n",
    "#setting for jupyter lab\n",
    "plt.rcParams['figure.figsize'] = [10, 5] #setting figure size (plots)\n",
    "\n",
    "import pandas as pd  # (software library for data analysis and manipulation, https://pandas.pydata.org/docs/)\n",
    "import numpy as np  # (software library for matrix multiplications, https://numpy.org/doc/)\n",
    "from numpy.random import randint\n",
    "from numpy.random import rand\n",
    "import statistics as stats  # (python module for statistic calculations, https://docs.python.org/3/library/statistics.html)\n",
    "import time #python time module\n",
    "import math #python module for mathematical operations\n"
   ]
  },
  {
   "cell_type": "code",
   "execution_count": null,
   "id": "08718c36-b5cb-45f4-aab3-5e3e7fffd42c",
   "metadata": {},
   "outputs": [],
   "source": [
    "def fitness(x):\n",
    "    '''fitness function to determine quality of solutions'''\n",
    "    des_result = 0\n",
    "    fitness =  abs(des_result - (x[0]-3)**2.0 + math.log(x[1]) + math.sin(x[2]) - (x[3]+1)*x[0])\n",
    "    return fitness\n",
    " \n",
    "def decode(number_of_variables, n_bits, bitstring, ranges):\n",
    "    '''decode bitstring to numbers'''\n",
    "    decoded = list()\n",
    "    largest = 2**n_bits\n",
    "    for i in range(len(ranges)):\n",
    "        \n",
    "        # extract the substring\n",
    "        start, end = i * n_bits, (i * n_bits)+n_bits\n",
    "        substring = bitstring[start:end]\n",
    "        \n",
    "        chars = ''.join([str(s) for s in substring]) # convert bitstring to a string of chars\n",
    "        integer = int(chars, 2) #convert string to int\n",
    "        \n",
    "        value = ranges[i][0] + (integer/largest) * (ranges[i][1] - ranges[i][0])\n",
    "        \n",
    "        decoded.append(value) #store\n",
    "        \n",
    "    return decoded\n",
    " \n",
    "def selection(pop, scores, k=3):\n",
    "    '''select individuals for reproduction selection'''\n",
    "    # first random selection\n",
    "    selection_ix = randint(len(pop))\n",
    "    for ix in randint(0, len(pop), k-1):\n",
    "        # check if better (e.g. perform a tournament)\n",
    "        if scores[ix] < scores[selection_ix]:\n",
    "            selection_ix = ix\n",
    "    return pop[selection_ix]\n",
    " \n",
    "    \n",
    "def crossover(p1, p2, r_cross):\n",
    "    '''crossover two parents to create two children'''\n",
    "    c1, c2 = p1.copy(), p2.copy() # children are copies of parents by default\n",
    "\n",
    "    # check for recombination\n",
    "    if rand() < r_cross:\n",
    "        pt = randint(1, len(p1)-2) # select crossover point that is not on the end of the string\n",
    "        \n",
    "        # perform crossover\n",
    "        c1 = p1[:pt] + p2[pt:]\n",
    "        c2 = p2[:pt] + p1[pt:]\n",
    "    return [c1, c2]\n",
    " \n",
    "    \n",
    "def mutation(bitstring, r_mut):\n",
    "    '''apply mutation to bitsring'''\n",
    "    for i in range(len(bitstring)):\n",
    "        # check for a mutation\n",
    "        if rand() < r_mut:\n",
    "            bitstring[i] = 1 - bitstring[i] # flip the bit\n",
    "\n"
   ]
  },
  {
   "cell_type": "code",
   "execution_count": null,
   "id": "de31afbc-a906-4f3e-a99e-3244b80f8729",
   "metadata": {},
   "outputs": [],
   "source": [
    "ranges = [[-10000, 10000],[0.00001, 10000],[-10000, 10000],[-10000, 10000]]\n",
    "n_iterations = 500\n",
    "n_bits = 8 #bits per variable\n",
    "n_population = 200\n",
    "r_cross = 0.2 # crossover rate\n",
    "r_mut = 1 / (float(n_bits) * len(ranges)) # mutation rate"
   ]
  },
  {
   "cell_type": "code",
   "execution_count": null,
   "id": "4747b410-f4c7-4b41-863e-10c449cdbe94",
   "metadata": {},
   "outputs": [],
   "source": [
    "population = [randint(0, 2, n_bits*len(ranges)).tolist() for _ in range(n_population)] #generate population\n",
    "best, best_eval = 0, fitness(decode(len(ranges), n_bits, population[0], ranges))\n",
    "\n",
    "display(pd.DataFrame(population))"
   ]
  },
  {
   "cell_type": "code",
   "execution_count": null,
   "id": "7bfe1a56-2253-4c29-8e44-5a5c4d6b7f5f",
   "metadata": {},
   "outputs": [],
   "source": [
    "history = []\n",
    "\n",
    "for gen in range(n_iterations):\n",
    "        decoded = [decode(len(ranges), n_bits, p, ranges) for p in population] # decode population\n",
    "        scores = [fitness(d) for d in decoded] # evaluate all candidates in the population\n",
    "        \n",
    "        # check for new best solution\n",
    "        for i in range(n_population):\n",
    "            if scores[i] < best_eval:\n",
    "                best, best_eval = population[i], scores[i]\n",
    "                print(f'''>{gen}< New best fit: f({decoded[i]}) = {scores[i]}''')\n",
    "                \n",
    "        selected = [selection(population, scores) for _ in range(n_population)] # select parents\n",
    "        #print(len(selected))\n",
    "        #selected = pd.DataFrame([population, scores]).T.sort_values(by=1).head(200)[0].to_numpy()\n",
    "\n",
    "        # create the next generation\n",
    "        children = list()\n",
    "        for i in range(0, n_population, 2):\n",
    "\n",
    "            p1, p2 = selected[i], selected[i+1] # get selected parents in pairs\n",
    "            # crossover and mutation\n",
    "            for c in crossover(p1, p2, r_cross):\n",
    "                mutation(c, r_mut) # mutation\n",
    "                children.append(c) # store for next generation\n",
    "\n",
    "        population = children # replace population\n",
    "\n",
    "        history.append([gen, best_eval, stats.mean(scores), stats.median(scores)]) #store history\n",
    "        \n",
    "print('Finished.\\n')\n",
    "decoded = decode(len(ranges), n_bits, best, ranges)\n",
    "print(f'''Best fit: f({decoded}) = {best_eval}''')"
   ]
  },
  {
   "cell_type": "code",
   "execution_count": null,
   "id": "78c17248-5c29-4a70-869b-78532c2a9bdb",
   "metadata": {},
   "outputs": [],
   "source": [
    "history_pd = pd.DataFrame(history, columns = ['gen', 'fittest', 'mean_fit', 'median_fit']).set_index('gen')\n",
    "\n",
    "plt.close('all')\n",
    "history_pd['fittest'].plot(title='Fitness over generations', ylim=[0, history_pd['fittest'].max()*1.1])"
   ]
  },
  {
   "cell_type": "code",
   "execution_count": null,
   "id": "a0f5dfce-d1ab-41d6-aaab-e2dd02cb0a3f",
   "metadata": {},
   "outputs": [],
   "source": [
    "plt.close('all')\n",
    "history_pd[['mean_fit', 'median_fit']].plot(title = 'Mean and median fitness over generations', ylim=[0, history_pd['mean_fit'].max()*1.1])"
   ]
  },
  {
   "cell_type": "code",
   "execution_count": null,
   "id": "c2cdee74-1031-4648-a43a-e3502cecafe6",
   "metadata": {},
   "outputs": [],
   "source": []
  },
  {
   "cell_type": "code",
   "execution_count": null,
   "id": "b560a02e-76ea-433c-97c8-763bde83f2d5",
   "metadata": {},
   "outputs": [],
   "source": []
  }
 ],
 "metadata": {
  "kernelspec": {
   "display_name": "Python 3 (ipykernel)",
   "language": "python",
   "name": "python3"
  },
  "language_info": {
   "codemirror_mode": {
    "name": "ipython",
    "version": 3
   },
   "file_extension": ".py",
   "mimetype": "text/x-python",
   "name": "python",
   "nbconvert_exporter": "python",
   "pygments_lexer": "ipython3",
   "version": "3.9.7"
  }
 },
 "nbformat": 4,
 "nbformat_minor": 5
}
