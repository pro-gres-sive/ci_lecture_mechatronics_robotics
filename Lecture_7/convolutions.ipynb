{
 "cells": [
  {
   "cell_type": "code",
   "execution_count": 230,
   "id": "96fb1288-08ae-4103-94a3-5e69d6f808e1",
   "metadata": {},
   "outputs": [],
   "source": [
    "import matplotlib.pyplot as plt #library for visualizing data\n",
    "%matplotlib widget \n",
    "#setting for jupyter lab\n",
    "plt.rcParams['figure.figsize'] = [12, 6] #setting figure size (plots)\n",
    "\n",
    "from PIL import Image #module for image\n",
    "import numpy as np\n",
    "import pandas as pd\n",
    "import cv2 #opencv - image precessing library\n",
    "import scipy.signal as sig"
   ]
  },
  {
   "cell_type": "code",
   "execution_count": 685,
   "id": "109e4363-5b5b-4de7-8b6f-7b0e3097dfe8",
   "metadata": {},
   "outputs": [],
   "source": [
    "image = cv2.imread('test_image_2.png', )\n"
   ]
  },
  {
   "cell_type": "code",
   "execution_count": 687,
   "id": "b858a4a7-a42c-4b04-a362-dd52e4e1044f",
   "metadata": {},
   "outputs": [
    {
     "data": {
      "application/vnd.jupyter.widget-view+json": {
       "model_id": "4fefb79105c34cc68105df07ab3eaed6",
       "version_major": 2,
       "version_minor": 0
      },
      "text/plain": [
       "Canvas(toolbar=Toolbar(toolitems=[('Home', 'Reset original view', 'home', 'home'), ('Back', 'Back to previous …"
      ]
     },
     "metadata": {},
     "output_type": "display_data"
    }
   ],
   "source": [
    "#image = cv2.imread('test_image_2.png', )\n",
    "\n",
    "#plot image\n",
    "plt.close('all')\n",
    "image = Image.open('test_image_2.png').convert('L')\n",
    "image=np.array(image)\n",
    "#image = image * -1 \n",
    "#image = image + abs(image.min())\n",
    "\n",
    "#image = np.heaviside(image, 0)\n",
    "#image = np.heaviside(image+1, 0)\n",
    "\n",
    "plt.close('all')\n",
    "ax = plt.imshow(image, cmap=plt.cm.gray)"
   ]
  },
  {
   "cell_type": "code",
   "execution_count": 700,
   "id": "6ebc73bc-bbeb-4ac4-96d7-da79c788392e",
   "metadata": {},
   "outputs": [
    {
     "data": {
      "text/plain": [
       "234.28401276627017"
      ]
     },
     "execution_count": 700,
     "metadata": {},
     "output_type": "execute_result"
    }
   ],
   "source": [
    "image.mean()"
   ]
  },
  {
   "cell_type": "code",
   "execution_count": 682,
   "id": "bfa4e8a6-29f1-4f71-b217-a97ab61b9532",
   "metadata": {},
   "outputs": [],
   "source": [
    "# define kernel\n",
    "convolution_vert_edge_kernel = np.array([[-2, 6, -2], \n",
    "                               [-3, 6, -3], \n",
    "                               [-2, 6, -2]])\n",
    "\n",
    "\n",
    "convolution_corner_kernel = np.array([[1, 0, -1], \n",
    "                               [0, 1, 0], \n",
    "                               [-1, 0, 1]])\n",
    "\n",
    "sober_kernel = np.array([[-1, -1, 2], \n",
    "                               [-2, -1, 3], \n",
    "                               [-1, -1, 2]])\n",
    "\n",
    "\n",
    "\n",
    "\n",
    "horizontal_edge_kernel = np.array([\n",
    "                               [-2, -1, 0, 1, 2], \n",
    "                               [-2, -1, 0, 1, 2], \n",
    "                               [-2, -1, 0, 1, 2],\n",
    "                               [-2, -1, 0, 1, 2],\n",
    "                               [-2, -1, 0, 1, 2]])\n",
    "\n",
    "vertical_edge_kernel = np.array([\n",
    "                               [-2, -2, -2, -2, -2], \n",
    "                               [-1, -1, -1, -1, -1], \n",
    "                               [0, 0, 0, 0, 0],\n",
    "                               [1, 1, 1, 1, 1],\n",
    "                               [2, 2, 1, 2, 2]])\n",
    "\n",
    "\n",
    "horizontal_line_kernel = np.array([\n",
    "                               [-3, 1, 2, 1, -3], \n",
    "                               [-3, 1, 2, 1, -3], \n",
    "                               [-3, 1, 2, 1, -3],\n",
    "                               [-3, 1, 2, 1, -3],\n",
    "                               [-3, 1, 2, 1, -3]])\n",
    "\n",
    "vertical_line_kernel = np.array([\n",
    "                               [-3, -3, -3, -3, -3], \n",
    "                               [1, 1, 1, 1, 1], \n",
    "                               [2, 2, 2, 2, 2],\n",
    "                               [1, 1, 1, 1, 1],\n",
    "                               [-3, -3, -3, -3, -3]])\n",
    "\n",
    "\n",
    "diagonal_line_kernel = np.array([\n",
    "                               [2, 0, -1, -2, -3], \n",
    "                               [0, 2, 0, -1, -2], \n",
    "                               [-1, 0, 2, 0, -1],\n",
    "                               [-2, -1, 0, 2, 0],\n",
    "                               [-3, -2, -1, 0, 2]])\n",
    "\n",
    "point_kernel = np.array([\n",
    "                               [-5, -5, -5, -5, -5], \n",
    "                               [-5, 0, 2, 0, -5], \n",
    "                               [-5, 2, 2, 2, -5],\n",
    "                               [-5, 0, 2, 0, -5],\n",
    "                               [-5, -5, -5, -5, -5]])\n",
    "\n",
    "sobel = np.array([[0,  1, 2],\n",
    "[-1,  0, 1], \n",
    "[-2, -1, 0]])\n",
    "\n",
    "w=np.asarray([[1,1,1],\n",
    "              [1,1,2],\n",
    "              [2,1,1]], dtype=np.uint8)"
   ]
  },
  {
   "cell_type": "code",
   "execution_count": 684,
   "id": "c83e609c-10f9-4d64-864f-b9caf131dc01",
   "metadata": {
    "collapsed": true,
    "jupyter": {
     "outputs_hidden": true
    },
    "tags": []
   },
   "outputs": [
    {
     "name": "stdout",
     "output_type": "stream",
     "text": [
      "-0.4\n"
     ]
    },
    {
     "data": {
      "application/vnd.jupyter.widget-view+json": {
       "model_id": "aee80ec61c5d4b43a52c10f7062ebcd2",
       "version_major": 2,
       "version_minor": 0
      },
      "text/plain": [
       "Canvas(toolbar=Toolbar(toolitems=[('Home', 'Reset original view', 'home', 'home'), ('Back', 'Back to previous …"
      ]
     },
     "metadata": {},
     "output_type": "display_data"
    },
    {
     "data": {
      "text/plain": [
       "<matplotlib.image.AxesImage at 0x7fe341c2a460>"
      ]
     },
     "execution_count": 684,
     "metadata": {},
     "output_type": "execute_result"
    }
   ],
   "source": [
    "kernel = diagonal_line_kernel\n",
    "kernel_inv = kernel# * (-1)\n",
    "#kernel_inv = np.flip(kernel, 1)# * (-1)\n",
    "\n",
    "print(kernel.mean())\n",
    "\n",
    "result = sig.convolve2d(image, kernel, mode=\"same\").clip(0)\n",
    "result_2 = sig.convolve2d(image, kernel_inv, mode=\"same\").clip(0)\n",
    "#result = result.clip(0)\n",
    "result = result + result_2\n",
    "\n",
    "#result = result + abs(result.min())\n",
    "result = result * (255/result.max())\n",
    "#result = minmax_scale(result, [0,255], axis=2)\n",
    "#result = result / (result*255)\n",
    "#result = np.heaviside(result, 0)\n",
    "#plot image\n",
    "plt.close('all')\n",
    "plt.imshow(result, cmap=plt.cm.gray)"
   ]
  },
  {
   "cell_type": "code",
   "execution_count": null,
   "id": "086dd6e5-9fae-4f1a-8373-b825bd6b8b9a",
   "metadata": {},
   "outputs": [],
   "source": []
  },
  {
   "cell_type": "code",
   "execution_count": 633,
   "id": "15f9cd47-7f77-41ee-8256-ff7a3405d3d8",
   "metadata": {},
   "outputs": [
    {
     "data": {
      "text/plain": [
       "array([[ 2,  0, -1, -2, -3],\n",
       "       [ 0,  2,  0, -1, -2],\n",
       "       [-1,  0,  2,  0, -1],\n",
       "       [-2, -1,  0,  2,  0],\n",
       "       [-3, -2, -1,  0,  2]])"
      ]
     },
     "execution_count": 633,
     "metadata": {},
     "output_type": "execute_result"
    }
   ],
   "source": [
    "kernel_inv"
   ]
  },
  {
   "cell_type": "code",
   "execution_count": 473,
   "id": "e02316bf-8ed7-4d62-a9e6-14cd9a713b08",
   "metadata": {},
   "outputs": [],
   "source": [
    "from sklearn.preprocessing import minmax_scale"
   ]
  },
  {
   "cell_type": "code",
   "execution_count": 698,
   "id": "4dcbb5c7-8b81-498c-8497-acd58c487c80",
   "metadata": {
    "tags": []
   },
   "outputs": [
    {
     "data": {
      "application/vnd.jupyter.widget-view+json": {
       "model_id": "ec9613540a73489c82bde810d2611583",
       "version_major": 2,
       "version_minor": 0
      },
      "text/plain": [
       "Canvas(toolbar=Toolbar(toolitems=[('Home', 'Reset original view', 'home', 'home'), ('Back', 'Back to previous …"
      ]
     },
     "metadata": {},
     "output_type": "display_data"
    },
    {
     "data": {
      "text/plain": [
       "<matplotlib.image.AxesImage at 0x7fe341971c40>"
      ]
     },
     "execution_count": 698,
     "metadata": {},
     "output_type": "execute_result"
    }
   ],
   "source": [
    "# use kernel\n",
    "result = cv2.filter2D(image, -1, cv2.flip(diagonal_line_kernel, -1))\n",
    "\n",
    "#plot image\n",
    "plt.close('all')\n",
    "plt.imshow(result, cmap=plt.cm.gray)"
   ]
  },
  {
   "cell_type": "code",
   "execution_count": 260,
   "id": "761d9f2f-e5ab-485b-9e4b-6dff31faacff",
   "metadata": {},
   "outputs": [],
   "source": []
  },
  {
   "cell_type": "code",
   "execution_count": 609,
   "id": "4edfc93a-7070-489e-a1be-e9c532304ef4",
   "metadata": {},
   "outputs": [
    {
     "data": {
      "text/plain": [
       "254.99999999999997"
      ]
     },
     "execution_count": 609,
     "metadata": {},
     "output_type": "execute_result"
    }
   ],
   "source": [
    "result.max()"
   ]
  },
  {
   "cell_type": "code",
   "execution_count": 448,
   "id": "7a28bebb-0202-48b8-be0e-bca54a60fb91",
   "metadata": {},
   "outputs": [
    {
     "data": {
      "text/plain": [
       "array([[1785, 1785, 1785, ..., 1785, 1785, 1785],\n",
       "       [1785, 1785, 1785, ..., 1785, 1785, 1785],\n",
       "       [1785, 1785, 1785, ..., 1785, 1785, 1785],\n",
       "       ...,\n",
       "       [1785, 1785, 1785, ..., 1785, 1785, 1785],\n",
       "       [1785, 1785, 1785, ..., 1785, 1785, 1785],\n",
       "       [1785, 1785, 1785, ..., 1785, 1785, 1785]])"
      ]
     },
     "execution_count": 448,
     "metadata": {},
     "output_type": "execute_result"
    }
   ],
   "source": [
    "result[0:900]"
   ]
  },
  {
   "cell_type": "code",
   "execution_count": null,
   "id": "b5cacab8-183e-4c59-84f7-9f0ba6b5f772",
   "metadata": {},
   "outputs": [],
   "source": []
  }
 ],
 "metadata": {
  "kernelspec": {
   "display_name": "Python 3 (ipykernel)",
   "language": "python",
   "name": "python3"
  },
  "language_info": {
   "codemirror_mode": {
    "name": "ipython",
    "version": 3
   },
   "file_extension": ".py",
   "mimetype": "text/x-python",
   "name": "python",
   "nbconvert_exporter": "python",
   "pygments_lexer": "ipython3",
   "version": "3.9.7"
  }
 },
 "nbformat": 4,
 "nbformat_minor": 5
}
