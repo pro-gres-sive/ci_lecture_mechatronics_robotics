{
 "cells": [
  {
   "cell_type": "code",
   "execution_count": 20,
   "id": "96fb1288-08ae-4103-94a3-5e69d6f808e1",
   "metadata": {},
   "outputs": [],
   "source": [
    "import matplotlib.pyplot as plt #library for visualizing data\n",
    "%matplotlib widget \n",
    "#setting for jupyter lab\n",
    "plt.rcParams['figure.figsize'] = [12, 6] #setting figure size (plots)\n",
    "\n",
    "from PIL import Image\n",
    "import numpy as np\n",
    "import pandas as pd\n",
    "import cv2 #opencv - image precessing library\n",
    "from PIL import Image #handling images in python"
   ]
  },
  {
   "cell_type": "code",
   "execution_count": 21,
   "id": "b858a4a7-a42c-4b04-a362-dd52e4e1044f",
   "metadata": {},
   "outputs": [
    {
     "data": {
      "application/vnd.jupyter.widget-view+json": {
       "model_id": "115c77b7defd4ef185039a4c66204424",
       "version_major": 2,
       "version_minor": 0
      },
      "text/plain": [
       "Canvas(toolbar=Toolbar(toolitems=[('Home', 'Reset original view', 'home', 'home'), ('Back', 'Back to previous …"
      ]
     },
     "metadata": {},
     "output_type": "display_data"
    }
   ],
   "source": [
    "image = cv2.imread('test_image.png')\n",
    "\n",
    "#plot image\n",
    "ax = plt.imshow(image, cmap=plt.cm.gray)"
   ]
  },
  {
   "cell_type": "code",
   "execution_count": 22,
   "id": "bfa4e8a6-29f1-4f71-b217-a97ab61b9532",
   "metadata": {},
   "outputs": [],
   "source": [
    "# define kernel\n",
    "convolution_vert_edge_kernel = np.array([[-1, 8, -1], \n",
    "                               [-1, 8, -1], \n",
    "                               [-1, 8, -1]])\n",
    "\n",
    "convolution_corner_kernel = np.array([[1, 0, -1], \n",
    "                               [0, 1, 0], \n",
    "                               [-1, 0, 11]])\n"
   ]
  },
  {
   "cell_type": "code",
   "execution_count": 23,
   "id": "4dcbb5c7-8b81-498c-8497-acd58c487c80",
   "metadata": {},
   "outputs": [],
   "source": [
    "# use kernel\n",
    "result = cv2.filter2D(image, -1, convolution_corner_kernel)"
   ]
  },
  {
   "cell_type": "code",
   "execution_count": 24,
   "id": "4edfc93a-7070-489e-a1be-e9c532304ef4",
   "metadata": {},
   "outputs": [
    {
     "data": {
      "application/vnd.jupyter.widget-view+json": {
       "model_id": "362ca0b78a4e4ec28c6829c165db996a",
       "version_major": 2,
       "version_minor": 0
      },
      "text/plain": [
       "Canvas(toolbar=Toolbar(toolitems=[('Home', 'Reset original view', 'home', 'home'), ('Back', 'Back to previous …"
      ]
     },
     "metadata": {},
     "output_type": "display_data"
    },
    {
     "data": {
      "text/plain": [
       "<matplotlib.image.AxesImage at 0x7fa102bead30>"
      ]
     },
     "execution_count": 24,
     "metadata": {},
     "output_type": "execute_result"
    }
   ],
   "source": [
    "#plot image\n",
    "plt.close('all')\n",
    "plt.imshow(result, cmap=plt.cm.gray)"
   ]
  },
  {
   "cell_type": "code",
   "execution_count": null,
   "id": "1e5e0c54-75f7-415a-ae87-b2eba239d2b4",
   "metadata": {},
   "outputs": [],
   "source": []
  }
 ],
 "metadata": {
  "kernelspec": {
   "display_name": "Python 3 (ipykernel)",
   "language": "python",
   "name": "python3"
  },
  "language_info": {
   "codemirror_mode": {
    "name": "ipython",
    "version": 3
   },
   "file_extension": ".py",
   "mimetype": "text/x-python",
   "name": "python",
   "nbconvert_exporter": "python",
   "pygments_lexer": "ipython3",
   "version": "3.9.7"
  }
 },
 "nbformat": 4,
 "nbformat_minor": 5
}
